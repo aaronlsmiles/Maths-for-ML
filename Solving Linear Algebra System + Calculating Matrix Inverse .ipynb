{
 "cells": [
  {
   "cell_type": "markdown",
   "id": "recent-impact",
   "metadata": {},
   "source": [
    "solve the linear algebra system"
   ]
  },
  {
   "cell_type": "code",
   "execution_count": 2,
   "id": "federal-lying",
   "metadata": {},
   "outputs": [],
   "source": [
    "import numpy as np"
   ]
  },
  {
   "cell_type": "code",
   "execution_count": 5,
   "id": "chronic-silicon",
   "metadata": {},
   "outputs": [
    {
     "data": {
      "text/plain": [
       "array([ 3.00000000e+00, -5.00000000e-01, -1.98254112e-17])"
      ]
     },
     "execution_count": 5,
     "metadata": {},
     "output_type": "execute_result"
    }
   ],
   "source": [
    "A = [[4, 6, 2],\n",
    "     [3, 4, 1],\n",
    "     [2, 8, 13]]\n",
    "\n",
    "s = [9, 7, 2]\n",
    "\n",
    "r = np.linalg.solve(A, s)\n",
    "\n",
    "r"
   ]
  },
  {
   "cell_type": "markdown",
   "id": "uniform-exclusive",
   "metadata": {},
   "source": [
    "Calculating the inverse a the matrix"
   ]
  },
  {
   "cell_type": "code",
   "execution_count": 8,
   "id": "seventh-ensemble",
   "metadata": {},
   "outputs": [
    {
     "data": {
      "text/plain": [
       "array([[ 0., -1.,  2.],\n",
       "       [-2.,  1.,  1.],\n",
       "       [ 1., -0., -1.]])"
      ]
     },
     "execution_count": 8,
     "metadata": {},
     "output_type": "execute_result"
    }
   ],
   "source": [
    "A = [[1, 1, 3],\n",
    "     [1, 2, 4],\n",
    "     [1, 1, 2]]\n",
    "Ainv = np.linalg.inv(A)\n",
    "\n",
    "Ainv"
   ]
  },
  {
   "cell_type": "code",
   "execution_count": 9,
   "id": "hairy-action",
   "metadata": {},
   "outputs": [
    {
     "data": {
      "text/plain": [
       "array([[-1.50000000e+00,  5.00000000e-01,  5.00000000e-01],\n",
       "       [ 2.00000000e+00,  5.55111512e-17, -1.00000000e+00],\n",
       "       [ 5.00000000e-01, -5.00000000e-01,  5.00000000e-01]])"
      ]
     },
     "execution_count": 9,
     "metadata": {},
     "output_type": "execute_result"
    }
   ],
   "source": [
    "A = [[1, 1, 1],\n",
    "     [3, 2, 1],\n",
    "     [2, 1, 2]]\n",
    "Ainv = np.linalg.inv(A)\n",
    "\n",
    "Ainv"
   ]
  },
  {
   "cell_type": "code",
   "execution_count": null,
   "id": "heavy-display",
   "metadata": {},
   "outputs": [],
   "source": []
  }
 ],
 "metadata": {
  "kernelspec": {
   "display_name": "Python 3",
   "language": "python",
   "name": "python3"
  },
  "language_info": {
   "codemirror_mode": {
    "name": "ipython",
    "version": 3
   },
   "file_extension": ".py",
   "mimetype": "text/x-python",
   "name": "python",
   "nbconvert_exporter": "python",
   "pygments_lexer": "ipython3",
   "version": "3.8.5"
  }
 },
 "nbformat": 4,
 "nbformat_minor": 5
}
