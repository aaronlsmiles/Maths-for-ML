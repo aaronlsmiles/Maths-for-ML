{
 "cells": [
  {
   "cell_type": "code",
   "execution_count": 6,
   "id": "smaller-lyric",
   "metadata": {},
   "outputs": [
    {
     "name": "stdout",
     "output_type": "stream",
     "text": [
      "Base change V to (b1, b2):\n",
      " [2. 3.]\n"
     ]
    }
   ],
   "source": [
    "# Check your calculations with Python and numpy(simple code)\n",
    "import numpy as np\n",
    "\n",
    "def projection(a, b):\n",
    "    return (a.dot(b) / b.dot(b))\n",
    "\n",
    "def base_change(V, *Bs):\n",
    "    prjs = [projection(V, b) for b in Bs]\n",
    "    return np.array(prjs)\n",
    "\n",
    "# insert numbers into the lists eg: [1, 0, 0.5, ...etc]\n",
    "V = np.array([5, -1]) \n",
    "b1 = np.array([1, 1])\n",
    "b2 = np.array([1, -1])\n",
    "#b3 = np.array([...])\n",
    "# insert as many vectors as desired\n",
    "\n",
    "print(\"Base change V to (b1, b2):\\n\", base_change(V, b1, b2))"
   ]
  },
  {
   "cell_type": "code",
   "execution_count": null,
   "id": "constitutional-watts",
   "metadata": {},
   "outputs": [],
   "source": []
  }
 ],
 "metadata": {
  "kernelspec": {
   "display_name": "Python 3",
   "language": "python",
   "name": "python3"
  },
  "language_info": {
   "codemirror_mode": {
    "name": "ipython",
    "version": 3
   },
   "file_extension": ".py",
   "mimetype": "text/x-python",
   "name": "python",
   "nbconvert_exporter": "python",
   "pygments_lexer": "ipython3",
   "version": "3.8.5"
  }
 },
 "nbformat": 4,
 "nbformat_minor": 5
}
